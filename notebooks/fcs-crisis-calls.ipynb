{
 "cells": [
  {
   "cell_type": "code",
   "execution_count": null,
   "metadata": {},
   "outputs": [],
   "source": [
    "import pandas as pd\n",
    "import matplotlib.pyplot as plt\n",
    "import datetime\n",
    "import numpy as np\n",
    "%matplotlib inline"
   ]
  },
  {
   "cell_type": "code",
   "execution_count": null,
   "metadata": {},
   "outputs": [],
   "source": [
    "csv = pd.read_csv('data/Crisis_2020_redacted.csv', encoding='ISO-8859-1', low_memory=False)"
   ]
  },
  {
   "cell_type": "code",
   "execution_count": null,
   "metadata": {
    "scrolled": false
   },
   "outputs": [],
   "source": [
    "csv.head()"
   ]
  },
  {
   "cell_type": "code",
   "execution_count": null,
   "metadata": {
    "scrolled": true
   },
   "outputs": [],
   "source": [
    "repeat_callers = pd.read_csv('data/repeat_callers.csv')\n",
    "repeat_callers = repeat_callers.drop(columns = ['Unnamed: 0'])\n",
    "repeat_callers.head(25)"
   ]
  },
  {
   "cell_type": "code",
   "execution_count": null,
   "metadata": {
    "scrolled": true
   },
   "outputs": [],
   "source": [
    "allnull = csv.isnull().sum() == 22326\n",
    "coldict = allnull.to_dict()\n",
    "cols = list(csv.columns.values)\n",
    "null_list = []\n",
    "for value in cols:\n",
    "    if coldict[value] == True:\n",
    "        null_list += [value]\n",
    "null_list"
   ]
  },
  {
   "cell_type": "code",
   "execution_count": null,
   "metadata": {
    "scrolled": true
   },
   "outputs": [],
   "source": [
    "csv.drop(columns=null_list)"
   ]
  },
  {
   "cell_type": "code",
   "execution_count": null,
   "metadata": {
    "scrolled": true
   },
   "outputs": [],
   "source": [
    "display(\"The column headers :\")\n",
    "display(list(csv.columns.values))\n",
    "\n"
   ]
  },
  {
   "cell_type": "code",
   "execution_count": null,
   "metadata": {},
   "outputs": [],
   "source": [
    "crisis_cols = csv.columns.str.contains('crisis',\n",
    "                                        case=False)"
   ]
  },
  {
   "cell_type": "code",
   "execution_count": null,
   "metadata": {},
   "outputs": [],
   "source": []
  },
  {
   "cell_type": "code",
   "execution_count": null,
   "metadata": {},
   "outputs": [],
   "source": [
    "crisis_indices = [i for i, col in enumerate(crisis_cols) if col]\n",
    "csv_crisis = csv.iloc[:, np.r_[6, crisis_indices]]\n",
    "csv_crisis.head()"
   ]
  },
  {
   "cell_type": "code",
   "execution_count": null,
   "metadata": {},
   "outputs": [],
   "source": [
    "csv_crisis.shape"
   ]
  },
  {
   "cell_type": "code",
   "execution_count": null,
   "metadata": {
    "scrolled": true
   },
   "outputs": [],
   "source": [
    "csv_crisis['CallerNum'].value_counts()"
   ]
  },
  {
   "cell_type": "code",
   "execution_count": null,
   "metadata": {},
   "outputs": [],
   "source": [
    "crisis_issues_cols = csv.columns.str.contains('crisis issues',\n",
    "                                        case=False)\n",
    "\n",
    "crisis_issues_indices = [i for i, col in enumerate(crisis_issues_cols) if col]\n",
    "csv_crisis_issues = csv.iloc[:, np.r_[0:16, crisis_issues_indices]]\n",
    "csv_crisis_issues.head()"
   ]
  },
  {
   "cell_type": "code",
   "execution_count": null,
   "metadata": {},
   "outputs": [],
   "source": [
    "csv_crisis_issues['CallerNum'].astype(int)"
   ]
  },
  {
   "cell_type": "code",
   "execution_count": null,
   "metadata": {},
   "outputs": [],
   "source": [
    "csv_crisis_issues.dtypes"
   ]
  },
  {
   "cell_type": "code",
   "execution_count": null,
   "metadata": {},
   "outputs": [],
   "source": [
    "pd.DataFrame(csv_crisis_issues)"
   ]
  },
  {
   "cell_type": "code",
   "execution_count": null,
   "metadata": {},
   "outputs": [],
   "source": [
    "top_caller = csv_crisis_issues.loc[csv_crisis_issues['CallerNum'] == 2270935]\n",
    "top_caller.head()"
   ]
  },
  {
   "cell_type": "code",
   "execution_count": null,
   "metadata": {
    "scrolled": true
   },
   "outputs": [],
   "source": [
    "csv_crisis_issues[['Date','Time']] = csv_crisis_issues['CallDateAndTimeStart'].str.split(\" \",n=1, expand=True)\n",
    "csv_crisis_issues.head()\n"
   ]
  },
  {
   "cell_type": "code",
   "execution_count": null,
   "metadata": {},
   "outputs": [],
   "source": [
    "issues = csv_crisis_issues[[c for c in csv_crisis_issues.columns if 'CRISIS Issues' in c]]"
   ]
  },
  {
   "cell_type": "code",
   "execution_count": null,
   "metadata": {},
   "outputs": [],
   "source": [
    "emotional_state = issues['CRISIS Issues - Emotional State']"
   ]
  },
  {
   "cell_type": "code",
   "execution_count": null,
   "metadata": {},
   "outputs": [],
   "source": [
    "emotional_state_list = emotional_state.str.split('; ')\n"
   ]
  },
  {
   "cell_type": "code",
   "execution_count": null,
   "metadata": {
    "scrolled": true
   },
   "outputs": [],
   "source": [
    "list(set(emotional_state_list.dropna().sum()))"
   ]
  },
  {
   "cell_type": "code",
   "execution_count": null,
   "metadata": {
    "scrolled": false
   },
   "outputs": [],
   "source": []
  },
  {
   "cell_type": "code",
   "execution_count": null,
   "metadata": {},
   "outputs": [],
   "source": [
    "def get_unique_issues(col_name, df, sep = '; '):\n",
    "    column = df[col_name]\n",
    "    column_list = column.dropna().astype(str).str.split(sep)\n",
    "    unique_list = list(set(column_list.sum()))\n",
    "    return unique_list\n"
   ]
  },
  {
   "cell_type": "code",
   "execution_count": null,
   "metadata": {
    "scrolled": true
   },
   "outputs": [],
   "source": [
    "get_unique_issues('CRISIS Issues - Emotional State', csv_crisis_issues)"
   ]
  },
  {
   "cell_type": "code",
   "execution_count": null,
   "metadata": {
    "scrolled": true
   },
   "outputs": [],
   "source": [
    "issues = issues.drop('CRISIS Issues - Call Problems (specify at least 2)', axis = 1)"
   ]
  },
  {
   "cell_type": "code",
   "execution_count": null,
   "metadata": {},
   "outputs": [],
   "source": [
    "#need to figure out how to get all the lists from each column\n",
    "unique_cols_list = []\n",
    "for c in issues.columns:\n",
    "    print(c)\n",
    "    unique_cols_list.append(get_unique_issues(c, issues))\n"
   ]
  },
  {
   "cell_type": "code",
   "execution_count": null,
   "metadata": {},
   "outputs": [],
   "source": [
    "unique_cols_list"
   ]
  },
  {
   "cell_type": "code",
   "execution_count": null,
   "metadata": {},
   "outputs": [],
   "source": [
    "issues_dict = {}\n",
    "for issue in emotional_state_list.dropna().sum():\n",
    "    # using if/else\n",
    "#     if issue in issues_dict.keys():\n",
    "#         issues_dict[issue] += 1\n",
    "#     else:\n",
    "#         issues_dict[issue] = 1\n",
    "    #-------\n",
    "    # using try/except\n",
    "    try:\n",
    "        issues_dict[issue] += 1\n",
    "    except KeyError:\n",
    "        issues_dict[issue] = 1\n",
    "    except TypeError:\n",
    "        #something else\n",
    "        issues_dict"
   ]
  },
  {
   "cell_type": "code",
   "execution_count": null,
   "metadata": {},
   "outputs": [],
   "source": [
    "issues_dict.keys()"
   ]
  },
  {
   "cell_type": "code",
   "execution_count": null,
   "metadata": {},
   "outputs": [],
   "source": [
    "issues_dict_sort = dict(sorted(issues_dict.items(), key=lambda item: item[1]))"
   ]
  },
  {
   "cell_type": "code",
   "execution_count": null,
   "metadata": {},
   "outputs": [],
   "source": [
    "type(issues_dict_sort.keys())"
   ]
  },
  {
   "cell_type": "code",
   "execution_count": null,
   "metadata": {},
   "outputs": [],
   "source": [
    "list(issues_dict.items())"
   ]
  },
  {
   "cell_type": "code",
   "execution_count": null,
   "metadata": {},
   "outputs": [],
   "source": [
    "plt.figure(figsize = (15, 6))\n",
    "plt.barh(y = list(issues_dict_sort.keys()), width = issues_dict_sort.values())\n",
    "plt.xticks(rotation = 90);"
   ]
  },
  {
   "cell_type": "code",
   "execution_count": null,
   "metadata": {},
   "outputs": [],
   "source": [
    "#flat list\n",
    "[issue for sublist in unique_cols_list for issue in sublist]\n"
   ]
  },
  {
   "cell_type": "code",
   "execution_count": null,
   "metadata": {
    "scrolled": true
   },
   "outputs": [],
   "source": [
    "#alternative appraoch to creating a flat list\n",
    "flat_list = []\n",
    "for sublist in unique_cols_list:\n",
    "    for issue in sublist:\n",
    "        flat_list.append(issue)\n",
    "flat_list"
   ]
  },
  {
   "cell_type": "code",
   "execution_count": null,
   "metadata": {},
   "outputs": [],
   "source": [
    "high_risk = [\n",
    "'Abuse/Neglect of Spouse/Partner',\n",
    "'Child Sexual Abuse',\n",
    "'Abuse/Neglect of Parent/Other Family',\n",
    "'Child Abuse/Neglect',\n",
    "'Other Physical Abuse/Neglect',\n",
    "'Rape/Sexual Abuse',\n",
    "'Pedophile',\n",
    "'Cult/Ritualistic Abuse',\n",
    "'Runaway/Missing',\n",
    "'Mass Violence (Domestic/International)',\n",
    "'Terrorism (Domestic/International)',\n",
    "'CURRENT HOMICIDAL THOUGHTS/IDEATIONS',\n",
    "'CURRENT HOMICIDAL INTENTION/PLAN/ATTEMPT IN PROGRESS',\n",
    "'Non-Suicidal Self Injury',\n",
    "'Third party concerned about anothers homicide risk',\n",
    "'CURRENT THOUGHTS/IDEATIONS',\n",
    "'CURRENT SUICIDAL INTENTION/PLAN/ATTEMPT IN PROGRESS',\n",
    "'Third party concerned about anothers suicide risk',\n",
    "'Mobile Crisis ',\n",
    "'Emergency (Mental Health)',\n",
    "'Emergency Medical Services',\n",
    "'Poisoning',\n",
    "'Overdose',\n",
    "'Detoxification',\n",
    "'Drug (street) Problem',\n",
    "'Medication Concern',\n",
    "'Under the Influence'\n",
    "]"
   ]
  },
  {
   "cell_type": "code",
   "execution_count": null,
   "metadata": {},
   "outputs": [],
   "source": [
    "crisis_risk = pd.read_csv('data/Crisis_High_Risk.csv')"
   ]
  },
  {
   "cell_type": "code",
   "execution_count": null,
   "metadata": {
    "scrolled": true
   },
   "outputs": [],
   "source": [
    "crisis_risk.drop(columns = 'Unnamed: 0')"
   ]
  },
  {
   "cell_type": "code",
   "execution_count": null,
   "metadata": {},
   "outputs": [],
   "source": [
    "crisis_risk_issues_only = crisis_risk[['CallerNum', \n",
    "'CallLength',\n",
    "'Abuse/Neglect of Spouse/Partner',\n",
    "'Child Sexual Abuse',\n",
    "'Abuse/Neglect of Parent/Other Family',\n",
    "'Child Abuse/Neglect',\n",
    "'Other Physical Abuse/Neglect',\n",
    "'Rape/Sexual Abuse',\n",
    "'Pedophile',\n",
    "'Cult/Ritualistic Abuse',\n",
    "'Runaway/Missing',\n",
    "'Mass Violence (Domestic/International)',\n",
    "'Terrorism (Domestic/International)',\n",
    "'CURRENT HOMICIDAL THOUGHTS/IDEATIONS',\n",
    "'CURRENT HOMICIDAL INTENTION/PLAN/ATTEMPT IN PROGRESS',\n",
    "'Non-Suicidal Self Injury',\n",
    "'Third party concerned about anothers homicide risk',\n",
    "'CURRENT THOUGHTS/IDEATIONS',\n",
    "'CURRENT SUICIDAL INTENTION/PLAN/ATTEMPT IN PROGRESS',\n",
    "'Third party concerned about anothers suicide risk',\n",
    "'Mobile Crisis ',\n",
    "'Emergency (Mental Health)',\n",
    "'Emergency Medical Services',\n",
    "'Poisoning',\n",
    "'Overdose',\n",
    "'Detoxification',\n",
    "'Drug (street) Problem',\n",
    "'Medication Concern',\n",
    "'Under the Influence','Total Number of Issues', 'Number of Imminent Risk Issues', 'IR Call'\n",
    "]]"
   ]
  },
  {
   "cell_type": "code",
   "execution_count": null,
   "metadata": {},
   "outputs": [],
   "source": [
    "crisis_risk_repeaters = crisis_risk_issues_only.drop(crisis_risk_issues_only.loc[crisis_risk_issues_only['CallerNum']== -1].index)\n",
    "crisis_risk_repeaters.drop(columns = 'IR Call', inplace=True)"
   ]
  },
  {
   "cell_type": "code",
   "execution_count": null,
   "metadata": {
    "scrolled": true
   },
   "outputs": [],
   "source": [
    "result = []\n",
    "for value in crisis_risk_repeaters[\"Number of Imminent Risk Issues\"]:\n",
    "    if value > 0:\n",
    "        result.append(\"Yes\")\n",
    "    else:\n",
    "        result.append(\"No\")\n",
    "       \n",
    "crisis_risk_repeaters[\"Risk Present\"] = result   \n",
    "crisis_risk_repeaters.head(25)"
   ]
  },
  {
   "cell_type": "code",
   "execution_count": null,
   "metadata": {
    "scrolled": false
   },
   "outputs": [],
   "source": [
    "# crisis_risk_repeaters['StateProvince'].astype(str)"
   ]
  },
  {
   "cell_type": "code",
   "execution_count": null,
   "metadata": {},
   "outputs": [],
   "source": [
    "crisis_risk_repeaters['Number of Imminent Risk Issues'].astype(int)"
   ]
  },
  {
   "cell_type": "code",
   "execution_count": null,
   "metadata": {},
   "outputs": [],
   "source": [
    "crisis_risk_repeaters.shape"
   ]
  },
  {
   "cell_type": "code",
   "execution_count": null,
   "metadata": {},
   "outputs": [],
   "source": [
    "crisis_risk_repeaters['Risk Present'].value_counts().sort_values()\\\n",
    ".plot(kind='barh', figsize=(10,10),color = '#a45c7c', fontsize = '16', title = 'Presence of Imminent Risk in Repeat Callers');\n",
    "plt.xlabel('Number of Calls', fontsize = 16)"
   ]
  },
  {
   "cell_type": "code",
   "execution_count": null,
   "metadata": {},
   "outputs": [],
   "source": [
    "crisis_risk_repeaters['Risk Present'].value_counts()"
   ]
  },
  {
   "cell_type": "code",
   "execution_count": null,
   "metadata": {},
   "outputs": [],
   "source": [
    "crisis_risk_first = crisis_risk_issues_only.drop(crisis_risk_issues_only.loc[crisis_risk_issues_only['CallerNum']!= -1].index)\n",
    "crisis_risk_first.drop(columns = 'IR Call', inplace=True)"
   ]
  },
  {
   "cell_type": "code",
   "execution_count": null,
   "metadata": {
    "scrolled": true
   },
   "outputs": [],
   "source": [
    "result = []\n",
    "for value in crisis_risk_first[\"Number of Imminent Risk Issues\"]:\n",
    "    if value > 0:\n",
    "        result.append(\"Yes\")\n",
    "    else:\n",
    "        result.append(\"No\")\n",
    "       \n",
    "crisis_risk_first[\"Risk Present\"] = result   \n",
    "crisis_risk_first.head(25)"
   ]
  },
  {
   "cell_type": "code",
   "execution_count": null,
   "metadata": {
    "scrolled": true
   },
   "outputs": [],
   "source": [
    "crisis_risk_first['Risk Present'].value_counts().sort_values()\\\n",
    ".plot(kind='barh', figsize=(10,10),color = '#a45c7c', fontsize = '16', title = 'Presence of Imminent Risk in First-Time Callers')\n",
    "plt.xlabel('Number of Calls', fontsize = '16')\n",
    "\n"
   ]
  },
  {
   "cell_type": "code",
   "execution_count": null,
   "metadata": {},
   "outputs": [],
   "source": [
    "crisis_risk_first['Risk Present'].value_counts()"
   ]
  },
  {
   "cell_type": "code",
   "execution_count": null,
   "metadata": {
    "scrolled": true
   },
   "outputs": [],
   "source": [
    "crisis_risk_first_high = crisis_risk_first.drop(crisis_risk_first.loc[crisis_risk_first['Risk Present'] == 'No'].index)\n",
    "crisis_risk_first_high.head(50)"
   ]
  },
  {
   "cell_type": "code",
   "execution_count": null,
   "metadata": {},
   "outputs": [],
   "source": [
    "crisis_risk_first_high['Number of Imminent Risk Issues'].value_counts().sort_values()\\\n",
    ".plot(kind='barh', figsize=(10,10),color = '#a45c7c', fontsize = '16', title = 'Number of High Risk Issues in First-Time Callers');\n",
    "plt.xlabel('Number of Calls', fontsize='16')\n",
    "plt.ylabel('Number of High Risk Issues', fontsize='16')"
   ]
  },
  {
   "cell_type": "code",
   "execution_count": null,
   "metadata": {},
   "outputs": [],
   "source": [
    "crisis_risk_first_high.CallLength.sum()"
   ]
  },
  {
   "cell_type": "code",
   "execution_count": null,
   "metadata": {
    "scrolled": true
   },
   "outputs": [],
   "source": [
    "crisis_risk_repeaters_high = crisis_risk_repeaters.drop(crisis_risk_repeaters.loc[crisis_risk_repeaters['Risk Present'] == 'No'].index)\n",
    "crisis_risk_repeaters_high.head(50)"
   ]
  },
  {
   "cell_type": "code",
   "execution_count": null,
   "metadata": {
    "scrolled": true
   },
   "outputs": [],
   "source": [
    "crisis_risk_repeaters_high['Number of Imminent Risk Issues'].value_counts().sort_values()\\\n",
    ".plot(kind='barh', figsize=(10,10),color = '#a45c7c', fontsize = '16', title = 'Number of High Risk Issues in Repeat Callers');\n",
    "plt.xlabel('Number of Calls', fontsize='16')\n",
    "plt.ylabel('Number of High Risk Issues', fontsize='16')"
   ]
  },
  {
   "cell_type": "code",
   "execution_count": null,
   "metadata": {},
   "outputs": [],
   "source": [
    "crisis_risk_repeaters_high.CallLength.sum()"
   ]
  },
  {
   "cell_type": "code",
   "execution_count": null,
   "metadata": {},
   "outputs": [],
   "source": [
    "crisis_risk_repeaters['CallerNum'].nunique()"
   ]
  },
  {
   "cell_type": "code",
   "execution_count": null,
   "metadata": {},
   "outputs": [],
   "source": [
    "crisis_risk_first['CallerNum'].shape"
   ]
  },
  {
   "cell_type": "code",
   "execution_count": null,
   "metadata": {},
   "outputs": [],
   "source": []
  },
  {
   "cell_type": "code",
   "execution_count": null,
   "metadata": {},
   "outputs": [],
   "source": []
  },
  {
   "cell_type": "code",
   "execution_count": null,
   "metadata": {},
   "outputs": [],
   "source": []
  },
  {
   "cell_type": "code",
   "execution_count": null,
   "metadata": {},
   "outputs": [],
   "source": []
  }
 ],
 "metadata": {
  "kernelspec": {
   "display_name": "Python 3",
   "language": "python",
   "name": "python3"
  },
  "language_info": {
   "codemirror_mode": {
    "name": "ipython",
    "version": 3
   },
   "file_extension": ".py",
   "mimetype": "text/x-python",
   "name": "python",
   "nbconvert_exporter": "python",
   "pygments_lexer": "ipython3",
   "version": "3.8.5"
  }
 },
 "nbformat": 4,
 "nbformat_minor": 4
}
