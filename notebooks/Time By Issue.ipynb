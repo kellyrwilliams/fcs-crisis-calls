{
 "cells": [
  {
   "cell_type": "code",
   "execution_count": null,
   "metadata": {},
   "outputs": [],
   "source": [
    "import pandas as pd\n",
    "import matplotlib.pyplot as plt\n",
    "import seaborn as sns\n",
    "crisis = pd.read_csv('../data/Crisis_2020_redacted.csv',encoding =\"ISO-8859-1\", low_memory=False)"
   ]
  },
  {
   "cell_type": "code",
   "execution_count": null,
   "metadata": {},
   "outputs": [],
   "source": [
    "#keeping only necessary columns\n",
    "col_list = ['CallLength', 'CRISIS Issues - Emotional State', 'CRISIS Issues - Financial/Basic Needs', \n",
    "            'CRISIS Issues - Health/Physical', 'CRISIS Issues - Homicide', 'CRISIS Issues - Information or Services Needed',\n",
    "            'CRISIS Issues - Mental Health', 'CRISIS Issues - No Issue Call', 'CRISIS Issues - Other Description',\n",
    "            'CRISIS Issues - Relationships', 'CRISIS Issues - Substances', 'CRISIS Issues - Suicide']\n",
    "crisis_issue = crisis[col_list]\n",
    "crisis_issue"
   ]
  },
  {
   "cell_type": "markdown",
   "metadata": {},
   "source": [
    "#### assign new column to existing dataframe\n",
    "df2=df.assign(Score3 = [56,86,77,45,73,62,74,89,71])\n",
    "\n",
    "\n",
    "#### add a new column of the dataframe: Declare a list that is to be converted into a column *Same for dictionary\n",
    "address = ['Newyork', 'California', 'Chennai', 'Vladivosk','London','Tokyo','Paris','Texas','Mumbai'] \n",
    "df['Address'] = address\n",
    "\n",
    "#### Using DataFrame.insert() to add a column at specific position; inserts address as \"second column\" instead of at end\n",
    "df.insert(1, \"Address\", ['Newyork', 'California', 'Chennai', 'Vladivosk','London','Tokyo','Paris','Texas','Mumbai'] , True) \n"
   ]
  },
  {
   "cell_type": "markdown",
   "metadata": {},
   "source": [
    "#how to divide up column calldateandtimeend to end\n",
    "crisis[['EndDate','EndTime']] = crisis['CallDateAndTimeEnd'].str.split(\"; \",n=1, expand=True)\n"
   ]
  },
  {
   "cell_type": "code",
   "execution_count": null,
   "metadata": {},
   "outputs": [],
   "source": [
    "dropna()"
   ]
  },
  {
   "cell_type": "code",
   "execution_count": null,
   "metadata": {},
   "outputs": [],
   "source": [
    "#emotional_state_list = emotional_state.str.split('; ') ----Creates a list\n",
    "#need to take list and save over column\n",
    "crisis_issue['CRISIS Issues - Emotional State'] = crisis_issue['CRISIS Issues - Emotional State'].str.split('; ')\n",
    "crisis_issue"
   ]
  },
  {
   "cell_type": "code",
   "execution_count": null,
   "metadata": {},
   "outputs": [],
   "source": []
  },
  {
   "cell_type": "code",
   "execution_count": null,
   "metadata": {},
   "outputs": [],
   "source": [
    "crisis_issue['CRISIS Issues - Emotional State'].value_counts()"
   ]
  },
  {
   "cell_type": "markdown",
   "metadata": {},
   "source": [
    "names_list = ['Jeff', 'Ben', 'Maria', 'Sophia', 'Rob']\n",
    "names_list.extend(['Laura','Elizabeth','Justin'])\n",
    "print(len(names_list))"
   ]
  },
  {
   "cell_type": "code",
   "execution_count": null,
   "metadata": {},
   "outputs": [],
   "source": [
    "crisis_issue['count'] = crisis_issue.apply(lambda x: x.str.contains(','), axis=1).sum(axis=1)"
   ]
  },
  {
   "cell_type": "code",
   "execution_count": null,
   "metadata": {
    "scrolled": true
   },
   "outputs": [],
   "source": [
    "crisis_issue.head()"
   ]
  },
  {
   "cell_type": "code",
   "execution_count": null,
   "metadata": {},
   "outputs": [],
   "source": [
    "def get_unique_issues(col_name, df, sep = '; '):\n",
    "    column = df[col_name]\n",
    "    column_list = column.str.split(sep)\n",
    "    return column_list"
   ]
  },
  {
   "cell_type": "code",
   "execution_count": null,
   "metadata": {},
   "outputs": [],
   "source": [
    "get_unique_issues('CRISIS Issues - Mental Health', crisis_issue)"
   ]
  },
  {
   "cell_type": "code",
   "execution_count": null,
   "metadata": {},
   "outputs": [],
   "source": [
    "for c in ['CRISIS Issues - Financial/Basic Needs', \n",
    "            'CRISIS Issues - Health/Physical', 'CRISIS Issues - Homicide', 'CRISIS Issues - Information or Services Needed',\n",
    "            'CRISIS Issues - Mental Health', 'CRISIS Issues - No Issue Call', 'CRISIS Issues - Other Description',\n",
    "            'CRISIS Issues - Relationships', 'CRISIS Issues - Substances', 'CRISIS Issues - Suicide']:\n",
    "    print(c)\n",
    "    crisis_issue[c]=get_unique_issues(c, crisis_issue)"
   ]
  },
  {
   "cell_type": "code",
   "execution_count": null,
   "metadata": {},
   "outputs": [],
   "source": [
    "crisis_issue['CRISIS Issues - Emotional State'].head()"
   ]
  },
  {
   "cell_type": "markdown",
   "metadata": {},
   "source": [
    "len(crisis_issue.drop([\"CallLength\",'count']).dropna().sum())"
   ]
  },
  {
   "cell_type": "code",
   "execution_count": null,
   "metadata": {
    "scrolled": true
   },
   "outputs": [],
   "source": [
    "crisis_issue['count']=crisis_issue.apply(sum_issues, axis=1)"
   ]
  },
  {
   "cell_type": "code",
   "execution_count": null,
   "metadata": {},
   "outputs": [],
   "source": [
    "def sum_issues (row):\n",
    "    try:\n",
    "        return len(row.drop(['CallLength','count']).dropna().sum())\n",
    "    except:\n",
    "        return 0"
   ]
  },
  {
   "cell_type": "code",
   "execution_count": null,
   "metadata": {
    "scrolled": false
   },
   "outputs": [],
   "source": [
    "crisis_issue.head()"
   ]
  }
 ],
 "metadata": {
  "kernelspec": {
   "display_name": "Python 3",
   "language": "python",
   "name": "python3"
  },
  "language_info": {
   "codemirror_mode": {
    "name": "ipython",
    "version": 3
   },
   "file_extension": ".py",
   "mimetype": "text/x-python",
   "name": "python",
   "nbconvert_exporter": "python",
   "pygments_lexer": "ipython3",
   "version": "3.8.5"
  }
 },
 "nbformat": 4,
 "nbformat_minor": 4
}
